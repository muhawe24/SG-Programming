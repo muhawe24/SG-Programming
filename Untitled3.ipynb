{
  "nbformat": 4,
  "nbformat_minor": 0,
  "metadata": {
    "colab": {
      "name": "Untitled3.ipynb",
      "provenance": []
    },
    "kernelspec": {
      "name": "python3",
      "display_name": "Python 3"
    }
  },
  "cells": [
    {
      "cell_type": "code",
      "metadata": {
        "colab": {
          "base_uri": "https://localhost:8080/"
        },
        "id": "WqE1iOduq8aI",
        "outputId": "06b70f7a-de68-463b-c016-c1d062b8e734"
      },
      "source": [
        "#bool\r\n",
        "bool1 = False\r\n",
        "print(bool1)\r\n",
        "print(type(bool1))"
      ],
      "execution_count": 2,
      "outputs": [
        {
          "output_type": "stream",
          "text": [
            "False\n",
            "<class 'bool'>\n"
          ],
          "name": "stdout"
        }
      ]
    },
    {
      "cell_type": "code",
      "metadata": {
        "colab": {
          "base_uri": "https://localhost:8080/"
        },
        "id": "69N9-2Owr1I6",
        "outputId": "81229332-5c2a-4038-b757-f85fc91d94a2"
      },
      "source": [
        "list =[1,2,3,\"isi\",2.14]\r\n",
        "print(list)\r\n",
        "list.append(10)\r\n",
        "print(list)\r\n",
        "list.pop(4)\r\n",
        "print(list)\r\n",
        "\r\n",
        "import numpy as np\r\n",
        "#list2 = np.array([1,2,3])\r\n",
        "#print(list2)\r\n",
        "#print(type(list2))\r\n",
        "#print(list2/2)\r\n",
        "#print(list/2))"
      ],
      "execution_count": 7,
      "outputs": [
        {
          "output_type": "stream",
          "text": [
            "[1, 2, 3, 'isi', 2.14]\n",
            "[1, 2, 3, 'isi', 2.14, 10]\n",
            "[1, 2, 3, 'isi', 10]\n"
          ],
          "name": "stdout"
        }
      ]
    }
  ]
}