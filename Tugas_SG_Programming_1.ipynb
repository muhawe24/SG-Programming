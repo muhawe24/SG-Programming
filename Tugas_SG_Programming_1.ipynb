{
  "nbformat": 4,
  "nbformat_minor": 0,
  "metadata": {
    "colab": {
      "name": "Tugas SG Programming 1.ipynb",
      "provenance": [],
      "collapsed_sections": []
    },
    "kernelspec": {
      "name": "python3",
      "display_name": "Python 3"
    }
  },
  "cells": [
    {
      "cell_type": "markdown",
      "metadata": {
        "id": "aFMKsXkINmh5"
      },
      "source": [
        "**Tugas SG Programming 1**\r\n",
        "\r\n",
        "Membuat program sederhana untuk menghitung volume bangun ruang\r\n",
        "\r\n",
        "Nama : Muhammad Hammam Wibowo\r\n",
        "\r\n",
        "NIM : 1301201575\r\n",
        "\r\n",
        "Peminatan : Cinematography"
      ]
    },
    {
      "cell_type": "markdown",
      "metadata": {
        "id": "SLNqz51LOWei"
      },
      "source": [
        "**1. Volume Tabung**"
      ]
    },
    {
      "cell_type": "code",
      "metadata": {
        "colab": {
          "base_uri": "https://localhost:8080/"
        },
        "id": "bR0gmc0iObeS",
        "outputId": "a24dcd89-5377-45a5-bb60-69c73ea98075"
      },
      "source": [
        "r = int(input(\"Masukkan jari-jari : \"))\r\n",
        "t = int(input(\"Masukkan tinggi : \"))\r\n",
        "\r\n",
        "if r % 7 == 0:\r\n",
        "  V = (22/7)*(r**2)*t\r\n",
        "elif r % 7 != 0:\r\n",
        "  V = 3,14*(r**2)*t\r\n",
        "\r\n",
        "print(\"Volume Tabung adalah\",V)"
      ],
      "execution_count": 7,
      "outputs": [
        {
          "output_type": "stream",
          "text": [
            "Masukkan jari-jari : 7\n",
            "Masukkan tinggi : 4\n",
            "Volume Tabung adalah 616.0\n"
          ],
          "name": "stdout"
        }
      ]
    },
    {
      "cell_type": "markdown",
      "metadata": {
        "id": "4o0zNXKtPsgm"
      },
      "source": [
        "**2. Volume Kerucut**"
      ]
    },
    {
      "cell_type": "code",
      "metadata": {
        "colab": {
          "base_uri": "https://localhost:8080/"
        },
        "id": "XtOmeFJDP2-Z",
        "outputId": "a131844b-58f0-4961-cc02-f3e703744305"
      },
      "source": [
        "r = int(input(\"Masukkan jari-jari : \"))\r\n",
        "t = int(input(\"Masukkan tinggi : \"))\r\n",
        "\r\n",
        "if r % 7 == 0:\r\n",
        "  V = (1/3)*(22/7)*(r**2)*t\r\n",
        "elif r % 7 != 0:\r\n",
        "  V = (1/3)*3,14*(r**2)*t\r\n",
        "\r\n",
        "print(\"Volume Kerucut adalah\",V)"
      ],
      "execution_count": 6,
      "outputs": [
        {
          "output_type": "stream",
          "text": [
            "Masukkan jari-jari : 7\n",
            "Masukkan tinggi : 4\n",
            "Volume Kerucut adalah 205.33333333333331\n"
          ],
          "name": "stdout"
        }
      ]
    },
    {
      "cell_type": "markdown",
      "metadata": {
        "id": "RYQKg4T5QjFL"
      },
      "source": [
        "**3. Volume Bola**"
      ]
    },
    {
      "cell_type": "code",
      "metadata": {
        "colab": {
          "base_uri": "https://localhost:8080/"
        },
        "id": "lVKAh5N0RCzf",
        "outputId": "d821f829-2acc-4d18-86f8-f757a62cd2ba"
      },
      "source": [
        "r = int(input(\"Masukkan jari-jari : \"))\r\n",
        "\r\n",
        "if r % 7 == 0:\r\n",
        "  V = (4/3)*(22/7)*(r**3)\r\n",
        "elif r % 7 != 0:\r\n",
        "  V = (4/3)*3,14*(r**3)\r\n",
        "\r\n",
        "print(\"Volume Bola adalah\",V)"
      ],
      "execution_count": 8,
      "outputs": [
        {
          "output_type": "stream",
          "text": [
            "Masukkan jari-jari : 7\n",
            "Volume Bola adalah 1437.333333333333\n"
          ],
          "name": "stdout"
        }
      ]
    }
  ]
}